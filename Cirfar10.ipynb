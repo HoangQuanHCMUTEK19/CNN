{
  "nbformat": 4,
  "nbformat_minor": 0,
  "metadata": {
    "colab": {
      "name": "Cirfar10.ipynb",
      "provenance": [],
      "collapsed_sections": [],
      "authorship_tag": "ABX9TyPImJwIoAgp0Wj8pNkv60/3",
      "include_colab_link": true
    },
    "kernelspec": {
      "name": "python3",
      "display_name": "Python 3"
    },
    "language_info": {
      "name": "python"
    },
    "accelerator": "GPU"
  },
  "cells": [
    {
      "cell_type": "markdown",
      "metadata": {
        "id": "view-in-github",
        "colab_type": "text"
      },
      "source": [
        "<a href=\"https://colab.research.google.com/github/HoangQuanHCMUTEK19/CNN/blob/main/Cirfar10.ipynb\" target=\"_parent\"><img src=\"https://colab.research.google.com/assets/colab-badge.svg\" alt=\"Open In Colab\"/></a>"
      ]
    },
    {
      "cell_type": "code",
      "execution_count": null,
      "metadata": {
        "id": "TF4VKW3o0MNB"
      },
      "outputs": [],
      "source": [
        "from keras.models import Sequential\n",
        "from keras.layers import Dense, Activation, Dropout,Flatten,Conv2D,MaxPooling2D\n",
        "from keras.datasets import mnist, fashion_mnist, cifar10, cifar100\n",
        "from tensorflow.keras.optimizers import Adam, RMSprop,SGD\n",
        "from sklearn.preprocessing import StandardScaler\n",
        "from keras.utils import np_utils\n",
        "import cv2\n",
        "import matplotlib.pyplot as plt\n",
        "import numpy as np\n",
        "import tensorflow.compat.v2 as tf\n",
        "from tensorflow import keras"
      ]
    },
    {
      "cell_type": "code",
      "source": [
        "(x_train, y_train), (x_test, y_test) = cifar10.load_data()"
      ],
      "metadata": {
        "colab": {
          "base_uri": "https://localhost:8080/"
        },
        "id": "E5T7Holt0hgr",
        "outputId": "668382fe-21d6-4a29-fdd9-6efbe15b37bf"
      },
      "execution_count": null,
      "outputs": [
        {
          "output_type": "stream",
          "name": "stdout",
          "text": [
            "Downloading data from https://www.cs.toronto.edu/~kriz/cifar-10-python.tar.gz\n",
            "170500096/170498071 [==============================] - 21s 0us/step\n",
            "170508288/170498071 [==============================] - 21s 0us/step\n"
          ]
        }
      ]
    },
    {
      "cell_type": "code",
      "source": [
        "#Doi du lieu ve dang float32 \n",
        "x_train = x_train.astype('float32')\n",
        "x_test = x_test.astype('float32')\n",
        "#Chuyen du lieu ve 0 va  1 \n",
        "x_train /= 255\n",
        "x_test /= 255\n",
        "#chuyển đổi vectơ lớp thành ma trận lớp nhị phân\n",
        "y_train = np_utils.to_categorical(y_train,10)\n",
        "y_test = np_utils.to_categorical(y_test,10)"
      ],
      "metadata": {
        "id": "FCf0T9PT0lrh"
      },
      "execution_count": null,
      "outputs": []
    },
    {
      "cell_type": "code",
      "source": [
        "#Tao model \n",
        "model = Sequential()\n",
        "model.add(Conv2D(32,(3,3),activation = 'relu', kernel_initializer='he_uniform',padding='same',input_shape=(32,32,3)))\n",
        "model.add(MaxPooling2D(2,2))\n",
        "model.add(Conv2D(64,(3,3),activation = 'relu', kernel_initializer='he_uniform',padding='same'))\n",
        "model.add(MaxPooling2D(2,2))\n",
        "model.add(Flatten())\n",
        "model.add(Dense(128,activation='relu',kernel_initializer='he_uniform'))\n",
        "model.add(Dense(10,activation='softmax'))\n",
        "model.summary()\n"
      ],
      "metadata": {
        "colab": {
          "base_uri": "https://localhost:8080/"
        },
        "id": "71EJrjSm0pW5",
        "outputId": "88591de1-1430-4dc7-dca2-b86e9e8802fa"
      },
      "execution_count": null,
      "outputs": [
        {
          "output_type": "stream",
          "name": "stdout",
          "text": [
            "Model: \"sequential_4\"\n",
            "_________________________________________________________________\n",
            " Layer (type)                Output Shape              Param #   \n",
            "=================================================================\n",
            " conv2d_8 (Conv2D)           (None, 32, 32, 32)        896       \n",
            "                                                                 \n",
            " max_pooling2d_8 (MaxPooling  (None, 16, 16, 32)       0         \n",
            " 2D)                                                             \n",
            "                                                                 \n",
            " conv2d_9 (Conv2D)           (None, 16, 16, 64)        18496     \n",
            "                                                                 \n",
            " max_pooling2d_9 (MaxPooling  (None, 8, 8, 64)         0         \n",
            " 2D)                                                             \n",
            "                                                                 \n",
            " flatten_4 (Flatten)         (None, 4096)              0         \n",
            "                                                                 \n",
            " dense_12 (Dense)            (None, 128)               524416    \n",
            "                                                                 \n",
            " dense_13 (Dense)            (None, 10)                1290      \n",
            "                                                                 \n",
            "=================================================================\n",
            "Total params: 545,098\n",
            "Trainable params: 545,098\n",
            "Non-trainable params: 0\n",
            "_________________________________________________________________\n"
          ]
        }
      ]
    },
    {
      "cell_type": "code",
      "source": [
        "#Compile model \n",
        "opt= SGD(lr=0.01,momentum = 0.9)\n",
        "model.compile(optimizer=opt, loss='categorical_crossentropy', metrics=['accuracy'])\n",
        "#Train model \n",
        "history = model.fit(x_train, y_train, epochs= 20, batch_size=64, validation_data=(x_test, y_test))"
      ],
      "metadata": {
        "colab": {
          "base_uri": "https://localhost:8080/"
        },
        "id": "RopJVpGS0qlp",
        "outputId": "0e0850c2-6bca-4db6-f57d-ea938dcbfdfd"
      },
      "execution_count": null,
      "outputs": [
        {
          "output_type": "stream",
          "name": "stderr",
          "text": [
            "/usr/local/lib/python3.7/dist-packages/keras/optimizer_v2/gradient_descent.py:102: UserWarning: The `lr` argument is deprecated, use `learning_rate` instead.\n",
            "  super(SGD, self).__init__(name, **kwargs)\n"
          ]
        },
        {
          "output_type": "stream",
          "name": "stdout",
          "text": [
            "Epoch 1/20\n",
            "782/782 [==============================] - 13s 16ms/step - loss: 0.1959 - accuracy: 0.9319 - val_loss: 1.2259 - val_accuracy: 0.7075\n",
            "Epoch 2/20\n",
            "782/782 [==============================] - 10s 13ms/step - loss: 0.1571 - accuracy: 0.9462 - val_loss: 1.3564 - val_accuracy: 0.7079\n",
            "Epoch 3/20\n",
            "782/782 [==============================] - 11s 15ms/step - loss: 0.1167 - accuracy: 0.9602 - val_loss: 1.4688 - val_accuracy: 0.7131\n",
            "Epoch 4/20\n",
            "782/782 [==============================] - 12s 15ms/step - loss: 0.0935 - accuracy: 0.9691 - val_loss: 1.5627 - val_accuracy: 0.7050\n",
            "Epoch 5/20\n",
            "782/782 [==============================] - 13s 17ms/step - loss: 0.0752 - accuracy: 0.9750 - val_loss: 1.6439 - val_accuracy: 0.7046\n",
            "Epoch 6/20\n",
            "782/782 [==============================] - 12s 16ms/step - loss: 0.0695 - accuracy: 0.9769 - val_loss: 1.6782 - val_accuracy: 0.7059\n",
            "Epoch 7/20\n",
            "782/782 [==============================] - 12s 16ms/step - loss: 0.0588 - accuracy: 0.9806 - val_loss: 1.8368 - val_accuracy: 0.7084\n",
            "Epoch 8/20\n",
            "782/782 [==============================] - 14s 18ms/step - loss: 0.0641 - accuracy: 0.9773 - val_loss: 1.8434 - val_accuracy: 0.7115\n",
            "Epoch 9/20\n",
            "782/782 [==============================] - 11s 14ms/step - loss: 0.0651 - accuracy: 0.9778 - val_loss: 2.0122 - val_accuracy: 0.6987\n",
            "Epoch 10/20\n",
            "782/782 [==============================] - 12s 15ms/step - loss: 0.0464 - accuracy: 0.9837 - val_loss: 1.9272 - val_accuracy: 0.7025\n",
            "Epoch 11/20\n",
            "782/782 [==============================] - 13s 17ms/step - loss: 0.0337 - accuracy: 0.9894 - val_loss: 2.1260 - val_accuracy: 0.7096\n",
            "Epoch 12/20\n",
            "782/782 [==============================] - 12s 15ms/step - loss: 0.0355 - accuracy: 0.9882 - val_loss: 2.0720 - val_accuracy: 0.7056\n",
            "Epoch 13/20\n",
            "782/782 [==============================] - 10s 12ms/step - loss: 0.0382 - accuracy: 0.9871 - val_loss: 2.1704 - val_accuracy: 0.7073\n",
            "Epoch 14/20\n",
            "782/782 [==============================] - 11s 14ms/step - loss: 0.0311 - accuracy: 0.9892 - val_loss: 2.2058 - val_accuracy: 0.7013\n",
            "Epoch 15/20\n",
            "782/782 [==============================] - 13s 17ms/step - loss: 0.0311 - accuracy: 0.9900 - val_loss: 2.2316 - val_accuracy: 0.7080\n",
            "Epoch 16/20\n",
            "782/782 [==============================] - 12s 15ms/step - loss: 0.0217 - accuracy: 0.9927 - val_loss: 2.3313 - val_accuracy: 0.7064\n",
            "Epoch 17/20\n",
            "782/782 [==============================] - 10s 13ms/step - loss: 0.0152 - accuracy: 0.9952 - val_loss: 2.4149 - val_accuracy: 0.7138\n",
            "Epoch 18/20\n",
            "782/782 [==============================] - 11s 14ms/step - loss: 0.0116 - accuracy: 0.9967 - val_loss: 2.3934 - val_accuracy: 0.7116\n",
            "Epoch 19/20\n",
            "782/782 [==============================] - 12s 15ms/step - loss: 0.0053 - accuracy: 0.9987 - val_loss: 2.3948 - val_accuracy: 0.7223\n",
            "Epoch 20/20\n",
            "782/782 [==============================] - 11s 14ms/step - loss: 0.0019 - accuracy: 0.9996 - val_loss: 2.4014 - val_accuracy: 0.7233\n"
          ]
        }
      ]
    },
    {
      "cell_type": "code",
      "source": [
        "plt.plot(history.history['accuracy'])\n",
        "plt.plot(history.history['val_accuracy'])\n",
        "plt.title('Model Accuracy')\n",
        "plt.ylabel('Accuracy')\n",
        "plt.xlabel('Epoch')\n",
        "plt.legend(['train','validation'])\n",
        "plt.show()"
      ],
      "metadata": {
        "colab": {
          "base_uri": "https://localhost:8080/",
          "height": 295
        },
        "id": "96pbu0w_2Bxo",
        "outputId": "82937e6b-6259-41ee-8c11-c30f289f4757"
      },
      "execution_count": null,
      "outputs": [
        {
          "output_type": "display_data",
          "data": {
            "text/plain": [
              "<Figure size 432x288 with 1 Axes>"
            ],
            "image/png": "[encoded data removed]"
          },
          "metadata": {
            "needs_background": "light"
          }
        }
      ]
    },
    {
      "cell_type": "code",
      "source": [
        "plt.plot(history.history['loss'])\n",
        "plt.plot(history.history['val_loss'])\n",
        "plt.title('Model Loss')\n",
        "plt.ylabel('Loss')\n",
        "plt.xlabel('Epoch')\n",
        "plt.legend(['train','validation'])\n",
        "plt.show()"
      ],
      "metadata": {
        "colab": {
          "base_uri": "https://localhost:8080/",
          "height": 295
        },
        "id": "px7jRsrMJ5en",
        "outputId": "39dbcc9f-6981-425a-abb5-3e9c7c981a91"
      },
      "execution_count": null,
      "outputs": [
        {
          "output_type": "display_data",
          "data": {
            "text/plain": [
              "<Figure size 432x288 with 1 Axes>"
            ],
            "image/png": "[encoded data removed]"
          },
          "metadata": {
            "needs_background": "light"
          }
        }
      ]
    },
    {
      "cell_type": "code",
      "source": [
        "score = model.evaluate(x_test,y_test,verbose = 0)\n",
        "print('Sai so kiem tra la:',score[0])\n",
        "print('Do chinh xac kiem tra', score[1])"
      ],
      "metadata": {
        "colab": {
          "base_uri": "https://localhost:8080/"
        },
        "id": "AjGfki9ZKA8X",
        "outputId": "67b6119f-26d5-4452-97ad-0868f7b101ec"
      },
      "execution_count": null,
      "outputs": [
        {
          "output_type": "stream",
          "name": "stdout",
          "text": [
            "Sai so kiem tra la: 2.4013893604278564\n",
            "Do chinh xac kiem tra 0.7232999801635742\n"
          ]
        }
      ]
    },
    {
      "cell_type": "code",
      "source": [
        "label=['airplane','automobile','bird','cat','deer','dog','frog','horse','ship','truck']"
      ],
      "metadata": {
        "id": "pVxs11nCWFMP"
      },
      "execution_count": null,
      "outputs": []
    },
    {
      "cell_type": "code",
      "source": [
        "#Load anh va hien thi anh \n",
        "img = tf.keras.utils.load_img('/content/png-clipart-airplane-aircraft-plane-mode-of-transport-flight-thumbnail.png',target_size=(32,32))\n",
        "plt.imshow(img)\n",
        "img = tf.keras.utils.img_to_array(img)\n",
        "img=img.reshape(1,32,32,3)\n",
        "img = img.astype('float32')\n",
        "img = img/255\n",
        "#Du doan hinh anh \n",
        "print('Day la ' + label[np.argmax(model.predict(img))])"
      ],
      "metadata": {
        "colab": {
          "base_uri": "https://localhost:8080/",
          "height": 283
        },
        "id": "zr2x1B-_KsC2",
        "outputId": "c643f0f6-ee2a-41be-93ed-e0e16489513b"
      },
      "execution_count": null,
      "outputs": [
        {
          "output_type": "stream",
          "name": "stdout",
          "text": [
            "Day la airplane\n"
          ]
        },
        {
          "output_type": "display_data",
          "data": {
            "text/plain": [
              "<Figure size 432x288 with 1 Axes>"
            ],
            "image/png": "[encoded data removed]"
          },
          "metadata": {
            "needs_background": "light"
          }
        }
      ]
    },
    {
      "cell_type": "code",
      "source": [
        "#Load anh va hien thi anh\n",
        "img1 = tf.keras.utils.load_img('/content/modelthumb-axor-distribution-id.png',target_size=(32,32))\n",
        "plt.imshow(img1)\n",
        "img1 = tf.keras.utils.img_to_array(img1)\n",
        "img1 =img1.reshape(1,32,32,3)\n",
        "img1 = img1.astype('float32')\n",
        "img1 = img1/255\n",
        "#Du doan hinh anh \n",
        "print('Day la ' + label[np.argmax(model.predict(img1))])"
      ],
      "metadata": {
        "colab": {
          "base_uri": "https://localhost:8080/",
          "height": 283
        },
        "id": "Br-N2QHlR5bg",
        "outputId": "767348c7-a4e6-47c6-8fc1-90ae8f916bc0"
      },
      "execution_count": null,
      "outputs": [
        {
          "output_type": "stream",
          "name": "stdout",
          "text": [
            "Day la truck\n"
          ]
        },
        {
          "output_type": "display_data",
          "data": {
            "text/plain": [
              "<Figure size 432x288 with 1 Axes>"
            ],
            "image/png": "[encoded data removed]"
          },
          "metadata": {
            "needs_background": "light"
          }
        }
      ]
    },
    {
      "cell_type": "code",
      "source": [
        ""
      ],
      "metadata": {
        "id": "M3nJgAJfVqMd"
      },
      "execution_count": null,
      "outputs": []
    }
  ]
}